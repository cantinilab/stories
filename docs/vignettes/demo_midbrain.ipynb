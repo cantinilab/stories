{
 "cells": [
  {
   "cell_type": "markdown",
   "id": "3f53814f",
   "metadata": {},
   "source": [
    "# Mouse gliogenesis"
   ]
  },
  {
   "cell_type": "markdown",
   "id": "888abc39",
   "metadata": {},
   "source": [
    "## Imports"
   ]
  },
  {
   "cell_type": "code",
   "execution_count": 1,
   "id": "2e644ffe",
   "metadata": {},
   "outputs": [],
   "source": [
    "%load_ext autoreload\n",
    "%autoreload 2"
   ]
  },
  {
   "cell_type": "code",
   "execution_count": 2,
   "id": "9723f342",
   "metadata": {},
   "outputs": [],
   "source": [
    "import anndata as ad\n",
    "import numpy as np\n",
    "import optax\n",
    "import orbax\n",
    "import scanpy as sc\n",
    "import uuid\n",
    "import matplotlib.pyplot as plt\n",
    "\n",
    "import stories"
   ]
  },
  {
   "cell_type": "code",
   "execution_count": 3,
   "id": "db022f0d",
   "metadata": {},
   "outputs": [
    {
     "data": {
      "text/plain": [
       "[cuda(id=0)]"
      ]
     },
     "execution_count": 3,
     "metadata": {},
     "output_type": "execute_result"
    }
   ],
   "source": [
    "import jax\n",
    "\n",
    "jax.devices()"
   ]
  },
  {
   "cell_type": "markdown",
   "id": "2154185c",
   "metadata": {},
   "source": [
    "## Load the data"
   ]
  },
  {
   "cell_type": "code",
   "execution_count": 4,
   "id": "1ef7c21b",
   "metadata": {},
   "outputs": [],
   "source": [
    "current_path = \"/pasteur/zeus/projets/p02/ml4ig_hot/Users/ghuizing/stories/docs/vignettes/\""
   ]
  },
  {
   "cell_type": "code",
   "execution_count": 5,
   "id": "40723395",
   "metadata": {},
   "outputs": [
    {
     "data": {
      "text/plain": [
       "AnnData object with n_obs × n_vars = 4581 × 10000\n",
       "    obs: 'CellID', 'Batch', 'annotation', 'S_score', 'G2M_score', 'phase', 'Time point', 'time', 'n_genes_by_counts', 'log1p_n_genes_by_counts', 'total_counts', 'log1p_total_counts', 'pct_counts_in_top_50_genes', 'pct_counts_in_top_100_genes', 'pct_counts_in_top_200_genes', 'pct_counts_in_top_500_genes', 'n_genes', 'proliferation', 'apoptosis', 'growth'\n",
       "    var: 'Gene', 'n_cells_by_counts', 'mean_counts', 'log1p_mean_counts', 'pct_dropout_by_counts', 'total_counts', 'log1p_total_counts', 'n_cells', 'means', 'variances', 'residual_variances', 'highly_variable_rank', 'highly_variable_nbatches', 'highly_variable_intersection', 'highly_variable'\n",
       "    uns: 'FP200000600TR_E3', 'SS200000108BR_A3A4', 'SS200000108BR_B1B2', 'SS200000131BL_C3C4', 'SS200000131BL_C5C6', 'angle_dict', 'annotation_colors', 'hvg', 'neighbors', 'pca'\n",
       "    obsm: 'X_isomap', 'X_pca', 'X_pca_harmony', 'X_umap', 'spatial'\n",
       "    varm: 'PCs'\n",
       "    layers: 'counts'\n",
       "    obsp: 'connectivities', 'distances'"
      ]
     },
     "execution_count": 5,
     "metadata": {},
     "output_type": "execute_result"
    }
   ],
   "source": [
    "# Load the data\n",
    "adata = ad.read_h5ad(current_path + \"../../../data/dorsal_midbrain/dorsal_midbrain_processed.h5ad\")\n",
    "adata"
   ]
  },
  {
   "cell_type": "markdown",
   "id": "8c51c473",
   "metadata": {},
   "source": [
    "## Preprocess the data"
   ]
  },
  {
   "cell_type": "code",
   "execution_count": 6,
   "id": "ae8aeb74",
   "metadata": {},
   "outputs": [],
   "source": [
    "# Some shorthands\n",
    "space_key = \"spatial\"\n",
    "omics_key = \"X_pca_harmony\"\n",
    "time_key = \"time\"\n",
    "weight_key = \"growth\""
   ]
  },
  {
   "cell_type": "code",
   "execution_count": 7,
   "id": "cdaa4a30",
   "metadata": {},
   "outputs": [
    {
     "name": "stdout",
     "output_type": "stream",
     "text": [
      "Normalized embedding.\n"
     ]
    }
   ],
   "source": [
    "# Select a given number of principal components then normalize the embedding.\n",
    "adata.obsm[omics_key] = adata.obsm[omics_key][:, :20]\n",
    "adata.obsm[omics_key] /= adata.obsm[omics_key].max()\n",
    "print(\"Normalized embedding.\")"
   ]
  },
  {
   "cell_type": "code",
   "execution_count": 8,
   "id": "9c019c4c",
   "metadata": {},
   "outputs": [
    {
     "name": "stdout",
     "output_type": "stream",
     "text": [
      "Centered and scaled space.\n"
     ]
    }
   ],
   "source": [
    "# Center and scale each batch in space.\n",
    "adata.obsm[space_key] = adata.obsm[space_key].astype(float)\n",
    "for b in adata.obs[\"Batch\"].unique():\n",
    "    idx = adata.obs[\"Batch\"] == b\n",
    "\n",
    "    mu = np.mean(adata.obsm[space_key][idx, :], axis=0)\n",
    "    adata.obsm[space_key][idx, :] -= mu\n",
    "\n",
    "    std = np.std(adata.obsm[space_key][idx, :], axis=0)\n",
    "    adata.obsm[space_key][idx, :] /= std\n",
    "print(\"Centered and scaled space.\")"
   ]
  },
  {
   "cell_type": "markdown",
   "id": "9d14d184",
   "metadata": {},
   "source": [
    "## Train the model"
   ]
  },
  {
   "cell_type": "code",
   "execution_count": 9,
   "id": "64247880",
   "metadata": {},
   "outputs": [],
   "source": [
    "# Initialize the model.\n",
    "model = stories.SpaceTime(quadratic_weight=1e-3)"
   ]
  },
  {
   "cell_type": "code",
   "execution_count": 19,
   "id": "a4026bad",
   "metadata": {},
   "outputs": [],
   "source": [
    "# Define the checkpoint manager.\n",
    "options = orbax.checkpoint.CheckpointManagerOptions(\n",
    "    save_interval_steps=1,\n",
    "    max_to_keep=1,\n",
    "    best_fn=lambda x: x[\"loss\"],\n",
    "    best_mode=\"min\",\n",
    ")\n",
    "checkpoint_manager = orbax.checkpoint.CheckpointManager(\n",
    "    f\"{current_path}ckpt{uuid.uuid4()}/checkpoints\",\n",
    "    options=options,\n",
    ")"
   ]
  },
  {
   "cell_type": "code",
   "execution_count": 20,
   "id": "c7873c58",
   "metadata": {},
   "outputs": [
    {
     "name": "stderr",
     "output_type": "stream",
     "text": [
      " 13%|█▎        | 1331/10000 [02:57<19:16,  7.50it/s, iteration=1332, train_loss=0.022216968, val_loss=0.08961417] \n"
     ]
    },
    {
     "name": "stdout",
     "output_type": "stream",
     "text": [
      "Met early stopping criteria, breaking...\n"
     ]
    }
   ],
   "source": [
    "scheduler = optax.cosine_decay_schedule(1e-2, 10_000)\n",
    "model.fit(\n",
    "    adata=adata,\n",
    "    time_key=time_key,\n",
    "    omics_key=omics_key,\n",
    "    space_key=space_key,\n",
    "    weight_key=weight_key,\n",
    "    optimizer=optax.adamw(scheduler),\n",
    "    key=jax.random.PRNGKey(20_181),\n",
    "    checkpoint_manager = checkpoint_manager,\n",
    ")"
   ]
  },
  {
   "cell_type": "code",
   "execution_count": 23,
   "id": "cb6ceb58",
   "metadata": {},
   "outputs": [],
   "source": [
    "from orbax.checkpoint.args import StandardRestore"
   ]
  },
  {
   "cell_type": "code",
   "execution_count": 25,
   "id": "def30f52",
   "metadata": {},
   "outputs": [],
   "source": [
    "best_step = checkpoint_manager.best_step()\n",
    "model.params = checkpoint_manager.restore(best_step, args=StandardRestore(model.params))"
   ]
  },
  {
   "cell_type": "code",
   "execution_count": 26,
   "id": "d8414f85",
   "metadata": {},
   "outputs": [
    {
     "data": {
      "image/png": "[encoded data removed]",
      "text/plain": [
       "<Figure size 640x480 with 1 Axes>"
      ]
     },
     "metadata": {},
     "output_type": "display_data"
    }
   ],
   "source": [
    "plt.plot(model.train_it, model.train_losses, label=\"Train\")\n",
    "plt.plot(model.val_it, model.val_losses, label=\"Validation\")\n",
    "plt.plot(best_step, model.val_losses[np.where(np.array(model.val_it) == best_step)[0][0]], \"g*\", label=\"Retained iteration\")\n",
    "plt.ylabel(\"Loss\")\n",
    "plt.xlabel(\"Iteration\")\n",
    "plt.legend()\n",
    "plt.yscale(\"log\");"
   ]
  },
  {
   "cell_type": "markdown",
   "id": "7aeea21f",
   "metadata": {},
   "source": [
    "## Display the potential"
   ]
  },
  {
   "cell_type": "code",
   "execution_count": null,
   "id": "5a811bbc",
   "metadata": {},
   "outputs": [],
   "source": [
    "stories.tools.compute_potential(adata, model, \"X_pca_harmony\")"
   ]
  },
  {
   "cell_type": "code",
   "execution_count": null,
   "id": "b1d7a8f1",
   "metadata": {},
   "outputs": [],
   "source": [
    "sc.pl.embedding(\n",
    "    adata, basis=\"isomap\", color=[\"annotation\", \"potential\"], vmax=\"p98\", vmin=\"p02\"\n",
    ")"
   ]
  },
  {
   "cell_type": "markdown",
   "id": "5eb33a2b",
   "metadata": {},
   "source": [
    "## Display the velocity"
   ]
  },
  {
   "cell_type": "code",
   "execution_count": null,
   "id": "3e1f030e",
   "metadata": {},
   "outputs": [],
   "source": [
    "stories.tools.compute_velocity(adata, model, \"X_pca_harmony\")"
   ]
  },
  {
   "cell_type": "code",
   "execution_count": null,
   "id": "a4c7af78",
   "metadata": {},
   "outputs": [],
   "source": [
    "palette = {\"GlioB\": \"#008941ff\", \"NeuB\": \"#ff34ffff\", \"RGC\": \"#00bfffff\"}"
   ]
  },
  {
   "cell_type": "code",
   "execution_count": null,
   "id": "5532844b",
   "metadata": {},
   "outputs": [],
   "source": [
    "stories.tools.plot_velocity(adata, \"X_pca_harmony\", basis=\"isomap\", color=\"annotation\", palette=palette, s=50)"
   ]
  }
 ],
 "metadata": {
  "kernelspec": {
   "display_name": "storiesenv",
   "language": "python",
   "name": "storiesenv"
  },
  "language_info": {
   "codemirror_mode": {
    "name": "ipython",
    "version": 3
   },
   "file_extension": ".py",
   "mimetype": "text/x-python",
   "name": "python",
   "nbconvert_exporter": "python",
   "pygments_lexer": "ipython3",
   "version": "3.10.14"
  }
 },
 "nbformat": 4,
 "nbformat_minor": 5
}
